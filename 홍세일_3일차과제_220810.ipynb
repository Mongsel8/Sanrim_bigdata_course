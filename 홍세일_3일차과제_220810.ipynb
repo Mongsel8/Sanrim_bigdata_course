{
  "nbformat": 4,
  "nbformat_minor": 0,
  "metadata": {
    "colab": {
      "name": "홍세일_3일차과제_220810.ipynb",
      "provenance": [],
      "collapsed_sections": []
    },
    "kernelspec": {
      "name": "python3",
      "display_name": "Python 3"
    },
    "language_info": {
      "name": "python"
    }
  },
  "cells": [
    {
      "cell_type": "code",
      "execution_count": 1,
      "metadata": {
        "id": "ODnHhxnlWwry"
      },
      "outputs": [],
      "source": [
        "import math"
      ]
    },
    {
      "cell_type": "code",
      "source": [
        "def find_cir_area(radius):\n",
        "  S = (radius**2)*math.pi\n",
        "  print('원의 넓이 : ',S)"
      ],
      "metadata": {
        "id": "c6NxIKeya2-H"
      },
      "execution_count": 26,
      "outputs": []
    },
    {
      "cell_type": "code",
      "source": [
        "def find_cir_circum(radius):\n",
        "  result = radius*2*math.pi\n",
        "  print('원의 둘레 : ',result)"
      ],
      "metadata": {
        "id": "SGRlXT07bF6-"
      },
      "execution_count": 28,
      "outputs": []
    },
    {
      "cell_type": "code",
      "source": [
        "def find_sph_area(radius):\n",
        "  result = (radius**2)*math.pi*4\n",
        "  print('구의 겉넓이 : ',result)"
      ],
      "metadata": {
        "id": "jqgEUWvIbw6W"
      },
      "execution_count": 29,
      "outputs": []
    },
    {
      "cell_type": "code",
      "source": [
        "def find_sph_vol(radius):\n",
        "  result = (radius**3)*math.pi*4/3\n",
        "  print('구의 부피 : ',result)\n"
      ],
      "metadata": {
        "id": "Fu4Rsv3EcQa-"
      },
      "execution_count": 32,
      "outputs": []
    },
    {
      "cell_type": "code",
      "source": [
        "find_cir_area(2)\n",
        "find_cir_circum(2)\n",
        "find_sph_area(2)\n",
        "find_sph_vol(2)"
      ],
      "metadata": {
        "colab": {
          "base_uri": "https://localhost:8080/",
          "height": 0
        },
        "id": "Jc70fCvTeFkW",
        "outputId": "977d8166-ccda-48d2-ac48-14b698e0cfa4"
      },
      "execution_count": 33,
      "outputs": [
        {
          "output_type": "stream",
          "name": "stdout",
          "text": [
            "원의 넓이 :  12.566370614359172\n",
            "원의 둘레 :  12.566370614359172\n",
            "구의 겉넓이 :  50.26548245743669\n",
            "구의 부피 :  33.510321638291124\n"
          ]
        }
      ]
    },
    {
      "cell_type": "code",
      "source": [
        "class calc_cir_sph :\n",
        "\n",
        "  def __init__(self, radius):\n",
        "    self.radius = radius\n",
        "  def calc_cir_area(self):\n",
        "    S = (self.radius**2)*math.pi\n",
        "    print('원의 넓이 : ',S)\n",
        "  def calc_cir_circum(self):\n",
        "    result = self.radius*2*math.pi\n",
        "    print('원의 둘레 : ',result)\n",
        "  def calc_sph_area(self):\n",
        "    result = (self.radius**2)*math.pi*4\n",
        "    print('구의 겉넓이 : ',result)\n",
        "  def calc_sph_vol(self):\n",
        "    result = (self.radius**3)*math.pi*4/3\n",
        "    print('구의 부피 : ',result)"
      ],
      "metadata": {
        "id": "lmAdFVse0CwK"
      },
      "execution_count": 42,
      "outputs": []
    },
    {
      "cell_type": "code",
      "source": [
        "cir = calc_cir_sph(2)"
      ],
      "metadata": {
        "id": "cOUPv4h00uVZ"
      },
      "execution_count": 43,
      "outputs": []
    },
    {
      "cell_type": "code",
      "source": [
        "cir.calc_cir_area()\n",
        "cir.calc_cir_circum()\n",
        "cir.calc_sph_area()\n",
        "cir.calc_sph_vol()"
      ],
      "metadata": {
        "colab": {
          "base_uri": "https://localhost:8080/"
        },
        "id": "wvB-qhWk02XQ",
        "outputId": "05bfd95b-9465-4c1e-b16e-70b5b1abe90a"
      },
      "execution_count": 45,
      "outputs": [
        {
          "output_type": "stream",
          "name": "stdout",
          "text": [
            "원의 넓이 :  12.566370614359172\n",
            "원의 둘레 :  12.566370614359172\n",
            "구의 겉넓이 :  50.26548245743669\n",
            "구의 부피 :  33.510321638291124\n"
          ]
        }
      ]
    }
  ]
}