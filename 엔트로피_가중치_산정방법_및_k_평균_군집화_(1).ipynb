{
  "nbformat": 4,
  "nbformat_minor": 0,
  "metadata": {
    "colab": {
      "name": "엔트로피_가중치_산정방법_및_k_평균_군집화 (1).ipynb",
      "provenance": [],
      "collapsed_sections": []
    },
    "kernelspec": {
      "name": "python3",
      "display_name": "Python 3"
    },
    "language_info": {
      "name": "python"
    }
  },
  "cells": [
    {
      "cell_type": "code",
      "execution_count": 1,
      "metadata": {
        "id": "KshtML0E_S1j"
      },
      "outputs": [],
      "source": [
        "import pandas as pd"
      ]
    },
    {
      "cell_type": "code",
      "source": [
        "data = pd.read_csv('/content/sample_data/점수파일_최종11.csv',encoding = 'euc-kr')"
      ],
      "metadata": {
        "id": "AKtIxHSF_7P5"
      },
      "execution_count": 3,
      "outputs": []
    },
    {
      "cell_type": "code",
      "source": [
        "data1=data[['plant_socre','passenger_score','transport_score']]"
      ],
      "metadata": {
        "id": "EMib1hfWAGTB"
      },
      "execution_count": 4,
      "outputs": []
    },
    {
      "cell_type": "code",
      "source": [
        "data1.describe()"
      ],
      "metadata": {
        "colab": {
          "base_uri": "https://localhost:8080/",
          "height": 300
        },
        "id": "FTO037FUADSZ",
        "outputId": "cd01b8ee-1ca6-4c75-9200-c4f87a773e91"
      },
      "execution_count": 5,
      "outputs": [
        {
          "output_type": "execute_result",
          "data": {
            "text/plain": [
              "       plant_socre  passenger_score  transport_score\n",
              "count    80.000000        80.000000         80.00000\n",
              "mean     25.700000       467.923654         26.75000\n",
              "std      33.782401       320.883930         13.23067\n",
              "min       1.000000       106.829861          3.00000\n",
              "25%       5.000000       228.892449         18.75000\n",
              "50%       9.000000       365.249669         26.50000\n",
              "75%      36.500000       570.555166         33.00000\n",
              "max     191.000000      1473.689964         64.00000"
            ],
            "text/html": [
              "\n",
              "  <div id=\"df-917d8ff7-555e-4eac-aa6c-c13b4e4f964f\">\n",
              "    <div class=\"colab-df-container\">\n",
              "      <div>\n",
              "<style scoped>\n",
              "    .dataframe tbody tr th:only-of-type {\n",
              "        vertical-align: middle;\n",
              "    }\n",
              "\n",
              "    .dataframe tbody tr th {\n",
              "        vertical-align: top;\n",
              "    }\n",
              "\n",
              "    .dataframe thead th {\n",
              "        text-align: right;\n",
              "    }\n",
              "</style>\n",
              "<table border=\"1\" class=\"dataframe\">\n",
              "  <thead>\n",
              "    <tr style=\"text-align: right;\">\n",
              "      <th></th>\n",
              "      <th>plant_socre</th>\n",
              "      <th>passenger_score</th>\n",
              "      <th>transport_score</th>\n",
              "    </tr>\n",
              "  </thead>\n",
              "  <tbody>\n",
              "    <tr>\n",
              "      <th>count</th>\n",
              "      <td>80.000000</td>\n",
              "      <td>80.000000</td>\n",
              "      <td>80.00000</td>\n",
              "    </tr>\n",
              "    <tr>\n",
              "      <th>mean</th>\n",
              "      <td>25.700000</td>\n",
              "      <td>467.923654</td>\n",
              "      <td>26.75000</td>\n",
              "    </tr>\n",
              "    <tr>\n",
              "      <th>std</th>\n",
              "      <td>33.782401</td>\n",
              "      <td>320.883930</td>\n",
              "      <td>13.23067</td>\n",
              "    </tr>\n",
              "    <tr>\n",
              "      <th>min</th>\n",
              "      <td>1.000000</td>\n",
              "      <td>106.829861</td>\n",
              "      <td>3.00000</td>\n",
              "    </tr>\n",
              "    <tr>\n",
              "      <th>25%</th>\n",
              "      <td>5.000000</td>\n",
              "      <td>228.892449</td>\n",
              "      <td>18.75000</td>\n",
              "    </tr>\n",
              "    <tr>\n",
              "      <th>50%</th>\n",
              "      <td>9.000000</td>\n",
              "      <td>365.249669</td>\n",
              "      <td>26.50000</td>\n",
              "    </tr>\n",
              "    <tr>\n",
              "      <th>75%</th>\n",
              "      <td>36.500000</td>\n",
              "      <td>570.555166</td>\n",
              "      <td>33.00000</td>\n",
              "    </tr>\n",
              "    <tr>\n",
              "      <th>max</th>\n",
              "      <td>191.000000</td>\n",
              "      <td>1473.689964</td>\n",
              "      <td>64.00000</td>\n",
              "    </tr>\n",
              "  </tbody>\n",
              "</table>\n",
              "</div>\n",
              "      <button class=\"colab-df-convert\" onclick=\"convertToInteractive('df-917d8ff7-555e-4eac-aa6c-c13b4e4f964f')\"\n",
              "              title=\"Convert this dataframe to an interactive table.\"\n",
              "              style=\"display:none;\">\n",
              "        \n",
              "  <svg xmlns=\"http://www.w3.org/2000/svg\" height=\"24px\"viewBox=\"0 0 24 24\"\n",
              "       width=\"24px\">\n",
              "    <path d=\"M0 0h24v24H0V0z\" fill=\"none\"/>\n",
              "    <path d=\"M18.56 5.44l.94 2.06.94-2.06 2.06-.94-2.06-.94-.94-2.06-.94 2.06-2.06.94zm-11 1L8.5 8.5l.94-2.06 2.06-.94-2.06-.94L8.5 2.5l-.94 2.06-2.06.94zm10 10l.94 2.06.94-2.06 2.06-.94-2.06-.94-.94-2.06-.94 2.06-2.06.94z\"/><path d=\"M17.41 7.96l-1.37-1.37c-.4-.4-.92-.59-1.43-.59-.52 0-1.04.2-1.43.59L10.3 9.45l-7.72 7.72c-.78.78-.78 2.05 0 2.83L4 21.41c.39.39.9.59 1.41.59.51 0 1.02-.2 1.41-.59l7.78-7.78 2.81-2.81c.8-.78.8-2.07 0-2.86zM5.41 20L4 18.59l7.72-7.72 1.47 1.35L5.41 20z\"/>\n",
              "  </svg>\n",
              "      </button>\n",
              "      \n",
              "  <style>\n",
              "    .colab-df-container {\n",
              "      display:flex;\n",
              "      flex-wrap:wrap;\n",
              "      gap: 12px;\n",
              "    }\n",
              "\n",
              "    .colab-df-convert {\n",
              "      background-color: #E8F0FE;\n",
              "      border: none;\n",
              "      border-radius: 50%;\n",
              "      cursor: pointer;\n",
              "      display: none;\n",
              "      fill: #1967D2;\n",
              "      height: 32px;\n",
              "      padding: 0 0 0 0;\n",
              "      width: 32px;\n",
              "    }\n",
              "\n",
              "    .colab-df-convert:hover {\n",
              "      background-color: #E2EBFA;\n",
              "      box-shadow: 0px 1px 2px rgba(60, 64, 67, 0.3), 0px 1px 3px 1px rgba(60, 64, 67, 0.15);\n",
              "      fill: #174EA6;\n",
              "    }\n",
              "\n",
              "    [theme=dark] .colab-df-convert {\n",
              "      background-color: #3B4455;\n",
              "      fill: #D2E3FC;\n",
              "    }\n",
              "\n",
              "    [theme=dark] .colab-df-convert:hover {\n",
              "      background-color: #434B5C;\n",
              "      box-shadow: 0px 1px 3px 1px rgba(0, 0, 0, 0.15);\n",
              "      filter: drop-shadow(0px 1px 2px rgba(0, 0, 0, 0.3));\n",
              "      fill: #FFFFFF;\n",
              "    }\n",
              "  </style>\n",
              "\n",
              "      <script>\n",
              "        const buttonEl =\n",
              "          document.querySelector('#df-917d8ff7-555e-4eac-aa6c-c13b4e4f964f button.colab-df-convert');\n",
              "        buttonEl.style.display =\n",
              "          google.colab.kernel.accessAllowed ? 'block' : 'none';\n",
              "\n",
              "        async function convertToInteractive(key) {\n",
              "          const element = document.querySelector('#df-917d8ff7-555e-4eac-aa6c-c13b4e4f964f');\n",
              "          const dataTable =\n",
              "            await google.colab.kernel.invokeFunction('convertToInteractive',\n",
              "                                                     [key], {});\n",
              "          if (!dataTable) return;\n",
              "\n",
              "          const docLinkHtml = 'Like what you see? Visit the ' +\n",
              "            '<a target=\"_blank\" href=https://colab.research.google.com/notebooks/data_table.ipynb>data table notebook</a>'\n",
              "            + ' to learn more about interactive tables.';\n",
              "          element.innerHTML = '';\n",
              "          dataTable['output_type'] = 'display_data';\n",
              "          await google.colab.output.renderOutput(dataTable, element);\n",
              "          const docLink = document.createElement('div');\n",
              "          docLink.innerHTML = docLinkHtml;\n",
              "          element.appendChild(docLink);\n",
              "        }\n",
              "      </script>\n",
              "    </div>\n",
              "  </div>\n",
              "  "
            ]
          },
          "metadata": {},
          "execution_count": 5
        }
      ]
    },
    {
      "cell_type": "markdown",
      "source": [
        "엔트로피 가중치 산정방법을 이용하기 전에 데이터 표준화 진행"
      ],
      "metadata": {
        "id": "Z-mtJW7qRxk-"
      }
    },
    {
      "cell_type": "code",
      "source": [
        "from sklearn.preprocessing import MinMaxScaler\n",
        "\n",
        "scaler = MinMaxScaler()\n",
        "data_scaled = scaler.fit_transform(data1)"
      ],
      "metadata": {
        "id": "es8GVLajBzXJ"
      },
      "execution_count": 6,
      "outputs": []
    },
    {
      "cell_type": "code",
      "source": [
        "data_scaled"
      ],
      "metadata": {
        "colab": {
          "base_uri": "https://localhost:8080/"
        },
        "id": "JNNM4qMvCigR",
        "outputId": "422eb496-06e4-4fa6-a892-05db6690e9cb"
      },
      "execution_count": 7,
      "outputs": [
        {
          "output_type": "execute_result",
          "data": {
            "text/plain": [
              "array([[1.        , 0.30590437, 0.06557377],\n",
              "       [0.33157895, 0.01885658, 0.        ],\n",
              "       [0.49473684, 0.0611899 , 0.37704918],\n",
              "       [0.13684211, 0.84425131, 0.44262295],\n",
              "       [0.14736842, 0.56365682, 0.14754098],\n",
              "       [0.22105263, 0.86165385, 0.37704918],\n",
              "       [0.01578947, 0.02943321, 1.        ],\n",
              "       [0.14736842, 0.22956784, 0.39344262],\n",
              "       [0.1       , 0.03557495, 0.49180328],\n",
              "       [0.14210526, 0.18108328, 0.55737705],\n",
              "       [0.45263158, 0.84192644, 0.3442623 ],\n",
              "       [0.13157895, 0.54755019, 0.67213115],\n",
              "       [0.28947368, 0.78177729, 0.47540984],\n",
              "       [0.54736842, 0.17523604, 0.36065574],\n",
              "       [0.74736842, 0.18982493, 0.06557377],\n",
              "       [0.37368421, 0.29474206, 0.37704918],\n",
              "       [0.36315789, 0.31367639, 0.1147541 ],\n",
              "       [0.24210526, 0.45078858, 0.24590164],\n",
              "       [0.22105263, 0.18829688, 0.45901639],\n",
              "       [0.15263158, 0.15108488, 0.47540984],\n",
              "       [0.01578947, 0.11767855, 0.3442623 ],\n",
              "       [0.01578947, 0.22446119, 0.39344262],\n",
              "       [0.06315789, 0.17476947, 0.04918033],\n",
              "       [0.01052632, 0.22239992, 0.16393443],\n",
              "       [0.18421053, 0.12213775, 0.6557377 ],\n",
              "       [0.02105263, 0.07990896, 0.27868852],\n",
              "       [0.03684211, 0.23645904, 0.45901639],\n",
              "       [0.02631579, 0.08423986, 0.24590164],\n",
              "       [0.02105263, 0.0900206 , 0.50819672],\n",
              "       [0.01052632, 0.        , 0.26229508],\n",
              "       [0.03684211, 0.40549627, 0.60655738],\n",
              "       [0.01052632, 0.34599563, 0.37704918],\n",
              "       [0.02105263, 0.314672  , 0.14754098],\n",
              "       [0.14736842, 0.53111228, 0.85245902],\n",
              "       [0.02105263, 0.18020061, 0.04918033],\n",
              "       [0.01578947, 0.33804667, 0.37704918],\n",
              "       [0.02105263, 0.88652433, 0.32786885],\n",
              "       [0.01578947, 0.07831313, 0.1147541 ],\n",
              "       [0.02105263, 0.13190079, 0.40983607],\n",
              "       [0.02105263, 0.60836596, 0.49180328],\n",
              "       [0.26315789, 0.64756282, 0.3442623 ],\n",
              "       [0.02105263, 0.11267732, 0.37704918],\n",
              "       [0.01052632, 0.0115883 , 0.14754098],\n",
              "       [0.04210526, 0.21087716, 0.3442623 ],\n",
              "       [0.01052632, 0.14741562, 0.31147541],\n",
              "       [0.01578947, 0.09462649, 0.50819672],\n",
              "       [0.02631579, 0.30558889, 0.29508197],\n",
              "       [0.15263158, 0.08289223, 0.01639344],\n",
              "       [0.1       , 0.36230348, 0.39344262],\n",
              "       [0.1       , 0.51331803, 0.47540984],\n",
              "       [0.02105263, 0.34291272, 0.44262295],\n",
              "       [0.03157895, 0.28576596, 0.44262295],\n",
              "       [0.21578947, 0.15167199, 0.72131148],\n",
              "       [0.02105263, 0.02585085, 0.14754098],\n",
              "       [0.04210526, 0.03201557, 0.8852459 ],\n",
              "       [0.07368421, 0.03181545, 0.13114754],\n",
              "       [0.02105263, 0.07985647, 0.6557377 ],\n",
              "       [0.        , 0.27603268, 0.67213115],\n",
              "       [0.01052632, 0.14622317, 0.73770492],\n",
              "       [0.01578947, 0.01323346, 0.39344262],\n",
              "       [0.2       , 0.23749332, 0.27868852],\n",
              "       [0.46315789, 0.06126486, 0.55737705],\n",
              "       [0.24210526, 0.18766814, 0.13114754],\n",
              "       [0.00526316, 0.28109296, 0.32786885],\n",
              "       [0.03157895, 0.08714401, 0.45901639],\n",
              "       [0.02631579, 0.10767052, 0.52459016],\n",
              "       [0.02105263, 0.21252174, 0.67213115],\n",
              "       [0.03157895, 0.06939119, 0.37704918],\n",
              "       [0.05789474, 0.41424496, 0.39344262],\n",
              "       [0.03684211, 0.20186142, 0.49180328],\n",
              "       [0.04210526, 0.0761425 , 1.        ],\n",
              "       [0.04736842, 0.17256454, 0.52459016],\n",
              "       [0.19473684, 0.18606098, 0.45901639],\n",
              "       [0.03684211, 1.        , 0.40983607],\n",
              "       [0.04210526, 0.22769728, 0.06557377],\n",
              "       [0.11578947, 0.37870446, 0.45901639],\n",
              "       [0.01578947, 0.20913525, 0.16393443],\n",
              "       [0.03684211, 0.70098677, 0.32786885],\n",
              "       [0.22105263, 0.04381312, 0.13114754],\n",
              "       [0.34210526, 0.16574087, 0.39344262]])"
            ]
          },
          "metadata": {},
          "execution_count": 7
        }
      ]
    },
    {
      "cell_type": "code",
      "source": [
        "data_trans = pd.DataFrame(data_scaled, columns = ['plantscore','passengerscore','transportscore'])"
      ],
      "metadata": {
        "id": "sF7jN-xSCsKQ"
      },
      "execution_count": 8,
      "outputs": []
    },
    {
      "cell_type": "code",
      "source": [
        "data_trans"
      ],
      "metadata": {
        "colab": {
          "base_uri": "https://localhost:8080/",
          "height": 424
        },
        "id": "QCQI-PJbJ8Pf",
        "outputId": "3ed4cbdd-db95-4d6c-816c-b46c01a0be3d"
      },
      "execution_count": 81,
      "outputs": [
        {
          "output_type": "execute_result",
          "data": {
            "text/plain": [
              "    plantscore  passengerscore  transportscore\n",
              "0     1.000000        0.305904        0.065574\n",
              "1     0.331579        0.018857        0.000000\n",
              "2     0.494737        0.061190        0.377049\n",
              "3     0.136842        0.844251        0.442623\n",
              "4     0.147368        0.563657        0.147541\n",
              "..         ...             ...             ...\n",
              "75    0.115789        0.378704        0.459016\n",
              "76    0.015789        0.209135        0.163934\n",
              "77    0.036842        0.700987        0.327869\n",
              "78    0.221053        0.043813        0.131148\n",
              "79    0.342105        0.165741        0.393443\n",
              "\n",
              "[80 rows x 3 columns]"
            ],
            "text/html": [
              "\n",
              "  <div id=\"df-6206b337-9d1e-4824-89ba-5531c66ea565\">\n",
              "    <div class=\"colab-df-container\">\n",
              "      <div>\n",
              "<style scoped>\n",
              "    .dataframe tbody tr th:only-of-type {\n",
              "        vertical-align: middle;\n",
              "    }\n",
              "\n",
              "    .dataframe tbody tr th {\n",
              "        vertical-align: top;\n",
              "    }\n",
              "\n",
              "    .dataframe thead th {\n",
              "        text-align: right;\n",
              "    }\n",
              "</style>\n",
              "<table border=\"1\" class=\"dataframe\">\n",
              "  <thead>\n",
              "    <tr style=\"text-align: right;\">\n",
              "      <th></th>\n",
              "      <th>plantscore</th>\n",
              "      <th>passengerscore</th>\n",
              "      <th>transportscore</th>\n",
              "    </tr>\n",
              "  </thead>\n",
              "  <tbody>\n",
              "    <tr>\n",
              "      <th>0</th>\n",
              "      <td>1.000000</td>\n",
              "      <td>0.305904</td>\n",
              "      <td>0.065574</td>\n",
              "    </tr>\n",
              "    <tr>\n",
              "      <th>1</th>\n",
              "      <td>0.331579</td>\n",
              "      <td>0.018857</td>\n",
              "      <td>0.000000</td>\n",
              "    </tr>\n",
              "    <tr>\n",
              "      <th>2</th>\n",
              "      <td>0.494737</td>\n",
              "      <td>0.061190</td>\n",
              "      <td>0.377049</td>\n",
              "    </tr>\n",
              "    <tr>\n",
              "      <th>3</th>\n",
              "      <td>0.136842</td>\n",
              "      <td>0.844251</td>\n",
              "      <td>0.442623</td>\n",
              "    </tr>\n",
              "    <tr>\n",
              "      <th>4</th>\n",
              "      <td>0.147368</td>\n",
              "      <td>0.563657</td>\n",
              "      <td>0.147541</td>\n",
              "    </tr>\n",
              "    <tr>\n",
              "      <th>...</th>\n",
              "      <td>...</td>\n",
              "      <td>...</td>\n",
              "      <td>...</td>\n",
              "    </tr>\n",
              "    <tr>\n",
              "      <th>75</th>\n",
              "      <td>0.115789</td>\n",
              "      <td>0.378704</td>\n",
              "      <td>0.459016</td>\n",
              "    </tr>\n",
              "    <tr>\n",
              "      <th>76</th>\n",
              "      <td>0.015789</td>\n",
              "      <td>0.209135</td>\n",
              "      <td>0.163934</td>\n",
              "    </tr>\n",
              "    <tr>\n",
              "      <th>77</th>\n",
              "      <td>0.036842</td>\n",
              "      <td>0.700987</td>\n",
              "      <td>0.327869</td>\n",
              "    </tr>\n",
              "    <tr>\n",
              "      <th>78</th>\n",
              "      <td>0.221053</td>\n",
              "      <td>0.043813</td>\n",
              "      <td>0.131148</td>\n",
              "    </tr>\n",
              "    <tr>\n",
              "      <th>79</th>\n",
              "      <td>0.342105</td>\n",
              "      <td>0.165741</td>\n",
              "      <td>0.393443</td>\n",
              "    </tr>\n",
              "  </tbody>\n",
              "</table>\n",
              "<p>80 rows × 3 columns</p>\n",
              "</div>\n",
              "      <button class=\"colab-df-convert\" onclick=\"convertToInteractive('df-6206b337-9d1e-4824-89ba-5531c66ea565')\"\n",
              "              title=\"Convert this dataframe to an interactive table.\"\n",
              "              style=\"display:none;\">\n",
              "        \n",
              "  <svg xmlns=\"http://www.w3.org/2000/svg\" height=\"24px\"viewBox=\"0 0 24 24\"\n",
              "       width=\"24px\">\n",
              "    <path d=\"M0 0h24v24H0V0z\" fill=\"none\"/>\n",
              "    <path d=\"M18.56 5.44l.94 2.06.94-2.06 2.06-.94-2.06-.94-.94-2.06-.94 2.06-2.06.94zm-11 1L8.5 8.5l.94-2.06 2.06-.94-2.06-.94L8.5 2.5l-.94 2.06-2.06.94zm10 10l.94 2.06.94-2.06 2.06-.94-2.06-.94-.94-2.06-.94 2.06-2.06.94z\"/><path d=\"M17.41 7.96l-1.37-1.37c-.4-.4-.92-.59-1.43-.59-.52 0-1.04.2-1.43.59L10.3 9.45l-7.72 7.72c-.78.78-.78 2.05 0 2.83L4 21.41c.39.39.9.59 1.41.59.51 0 1.02-.2 1.41-.59l7.78-7.78 2.81-2.81c.8-.78.8-2.07 0-2.86zM5.41 20L4 18.59l7.72-7.72 1.47 1.35L5.41 20z\"/>\n",
              "  </svg>\n",
              "      </button>\n",
              "      \n",
              "  <style>\n",
              "    .colab-df-container {\n",
              "      display:flex;\n",
              "      flex-wrap:wrap;\n",
              "      gap: 12px;\n",
              "    }\n",
              "\n",
              "    .colab-df-convert {\n",
              "      background-color: #E8F0FE;\n",
              "      border: none;\n",
              "      border-radius: 50%;\n",
              "      cursor: pointer;\n",
              "      display: none;\n",
              "      fill: #1967D2;\n",
              "      height: 32px;\n",
              "      padding: 0 0 0 0;\n",
              "      width: 32px;\n",
              "    }\n",
              "\n",
              "    .colab-df-convert:hover {\n",
              "      background-color: #E2EBFA;\n",
              "      box-shadow: 0px 1px 2px rgba(60, 64, 67, 0.3), 0px 1px 3px 1px rgba(60, 64, 67, 0.15);\n",
              "      fill: #174EA6;\n",
              "    }\n",
              "\n",
              "    [theme=dark] .colab-df-convert {\n",
              "      background-color: #3B4455;\n",
              "      fill: #D2E3FC;\n",
              "    }\n",
              "\n",
              "    [theme=dark] .colab-df-convert:hover {\n",
              "      background-color: #434B5C;\n",
              "      box-shadow: 0px 1px 3px 1px rgba(0, 0, 0, 0.15);\n",
              "      filter: drop-shadow(0px 1px 2px rgba(0, 0, 0, 0.3));\n",
              "      fill: #FFFFFF;\n",
              "    }\n",
              "  </style>\n",
              "\n",
              "      <script>\n",
              "        const buttonEl =\n",
              "          document.querySelector('#df-6206b337-9d1e-4824-89ba-5531c66ea565 button.colab-df-convert');\n",
              "        buttonEl.style.display =\n",
              "          google.colab.kernel.accessAllowed ? 'block' : 'none';\n",
              "\n",
              "        async function convertToInteractive(key) {\n",
              "          const element = document.querySelector('#df-6206b337-9d1e-4824-89ba-5531c66ea565');\n",
              "          const dataTable =\n",
              "            await google.colab.kernel.invokeFunction('convertToInteractive',\n",
              "                                                     [key], {});\n",
              "          if (!dataTable) return;\n",
              "\n",
              "          const docLinkHtml = 'Like what you see? Visit the ' +\n",
              "            '<a target=\"_blank\" href=https://colab.research.google.com/notebooks/data_table.ipynb>data table notebook</a>'\n",
              "            + ' to learn more about interactive tables.';\n",
              "          element.innerHTML = '';\n",
              "          dataTable['output_type'] = 'display_data';\n",
              "          await google.colab.output.renderOutput(dataTable, element);\n",
              "          const docLink = document.createElement('div');\n",
              "          docLink.innerHTML = docLinkHtml;\n",
              "          element.appendChild(docLink);\n",
              "        }\n",
              "      </script>\n",
              "    </div>\n",
              "  </div>\n",
              "  "
            ]
          },
          "metadata": {},
          "execution_count": 81
        }
      ]
    },
    {
      "cell_type": "markdown",
      "source": [
        "엔트로피 가중치 산정방법"
      ],
      "metadata": {
        "id": "9jdv5hg_RgTY"
      }
    },
    {
      "cell_type": "code",
      "source": [
        "import math"
      ],
      "metadata": {
        "id": "-hrhjH-dKBX_"
      },
      "execution_count": 10,
      "outputs": []
    },
    {
      "cell_type": "code",
      "source": [
        "k = -1/math.log(80)"
      ],
      "metadata": {
        "id": "oO7LCSVYKZ7H"
      },
      "execution_count": 11,
      "outputs": []
    },
    {
      "cell_type": "markdown",
      "source": [
        "상수 k는 우리가 평가하고자하는 공원이 80개이므로 위와 같음"
      ],
      "metadata": {
        "id": "wo9HUQniRlRl"
      }
    },
    {
      "cell_type": "code",
      "source": [
        "temp = [0,0,0]\n",
        "j=0\n",
        "for column in data_trans.columns:\n",
        "  for i in range(len(data_trans)):\n",
        "    if(data_trans[column].iloc[i] != 0):\n",
        "      temp[j]=temp[j]+(data_trans[column].iloc[i]*math.log(data_trans[column].iloc[i]))\n",
        "  j=j+1    \n"
      ],
      "metadata": {
        "id": "sae9L9mrMR6m"
      },
      "execution_count": 84,
      "outputs": []
    },
    {
      "cell_type": "code",
      "source": [
        "print(temp)"
      ],
      "metadata": {
        "colab": {
          "base_uri": "https://localhost:8080/"
        },
        "id": "_bj1VNZTFDxC",
        "outputId": "9dd108f9-3ab3-4837-eaae-c09bb2cb658d"
      },
      "execution_count": 85,
      "outputs": [
        {
          "output_type": "stream",
          "name": "stdout",
          "text": [
            "[-14.184331637118627, -20.757026469062055, -24.190474263306697]\n"
          ]
        }
      ]
    },
    {
      "cell_type": "markdown",
      "source": [
        "각 피쳐마다 엔트로피 계산(1)"
      ],
      "metadata": {
        "id": "XQMuN63VSBpF"
      }
    },
    {
      "cell_type": "code",
      "source": [
        "i = 0\n",
        "res = [0,0,0]\n",
        "for i in range(3):\n",
        "  res[i] = temp[i]*k"
      ],
      "metadata": {
        "id": "5DolZRyFNquH"
      },
      "execution_count": 86,
      "outputs": []
    },
    {
      "cell_type": "markdown",
      "source": [
        "엔트로피 계산(2)"
      ],
      "metadata": {
        "id": "nqfJDNpPSGQ2"
      }
    },
    {
      "cell_type": "code",
      "source": [
        "print('식물점수에 관한 엔트로피:',res[0])\n",
        "print('이용객점수에 관한 엔트로피:',res[1])\n",
        "print('대중교통 관한 엔트로피:',res[2])"
      ],
      "metadata": {
        "colab": {
          "base_uri": "https://localhost:8080/"
        },
        "id": "2lXFBE_iO3q-",
        "outputId": "1c1b39f6-f18a-4884-a220-3d2ce8e6f54e"
      },
      "execution_count": 87,
      "outputs": [
        {
          "output_type": "stream",
          "name": "stdout",
          "text": [
            "식물점수에 관한 엔트로피: 3.236934144781676\n",
            "이용객점수에 관한 엔트로피: 4.736855386687267\n",
            "대중교통 관한 엔트로피: 5.52038503643349\n"
          ]
        }
      ]
    },
    {
      "cell_type": "code",
      "source": [
        "sum_res = res[0]+res[1]+res[2]"
      ],
      "metadata": {
        "id": "GZpmqsUtPns-"
      },
      "execution_count": 88,
      "outputs": []
    },
    {
      "cell_type": "code",
      "source": [
        "lamda=[0,0,0]\n",
        "i = 0\n",
        "for i in range(3):\n",
        "  lamda[i] = (1-res[i])/(3 - sum_res) "
      ],
      "metadata": {
        "id": "ZHtvEj58P2lO"
      },
      "execution_count": 92,
      "outputs": []
    },
    {
      "cell_type": "code",
      "source": [
        "print('식물점수에 대한 가중치',lamda[0])\n",
        "print('이용객에 관한 가중치',lamda[1])\n",
        "print('대중교통에 관한 가중치',lamda[2])"
      ],
      "metadata": {
        "colab": {
          "base_uri": "https://localhost:8080/"
        },
        "id": "vAjbvDv7QGl2",
        "outputId": "55bb5a2f-a12b-4830-bad4-72d96ef4ae24"
      },
      "execution_count": 93,
      "outputs": [
        {
          "output_type": "stream",
          "name": "stdout",
          "text": [
            "식물점수에 대한 가중치 0.21315960872459477\n",
            "이용객에 관한 가중치 0.35608854822339653\n",
            "대중교통에 관한 가중치 0.4307518430520087\n"
          ]
        }
      ]
    },
    {
      "cell_type": "markdown",
      "source": [
        "위 가중치들을 데이터프레임 피쳐에 곱해줘서 서비스 이용자가 어떤 특성을 중요하게 생각하는 지에 따라 데이터에 가중치를 곱하여서 보여줌"
      ],
      "metadata": {
        "id": "ub-rVxXIS3aV"
      }
    },
    {
      "cell_type": "code",
      "source": [
        "from sklearn.cluster import KMeans"
      ],
      "metadata": {
        "id": "NoJhhwk_UJA2"
      },
      "execution_count": 94,
      "outputs": []
    },
    {
      "cell_type": "markdown",
      "source": [
        "K 평균 군집화를 활용한 데이터 군집"
      ],
      "metadata": {
        "id": "HEfkgcrzX0zM"
      }
    },
    {
      "cell_type": "code",
      "source": [
        "kmeans = KMeans(n_clusters = 3)"
      ],
      "metadata": {
        "id": "DARXnAvOUWaN"
      },
      "execution_count": 95,
      "outputs": []
    },
    {
      "cell_type": "code",
      "source": [
        "kmeans_fitted=kmeans.fit(data_trans)"
      ],
      "metadata": {
        "id": "adfyy9KLUawk"
      },
      "execution_count": 96,
      "outputs": []
    },
    {
      "cell_type": "code",
      "source": [
        "import matplotlib.pyplot as plt"
      ],
      "metadata": {
        "id": "iuhUT019VHM0"
      },
      "execution_count": 97,
      "outputs": []
    },
    {
      "cell_type": "code",
      "source": [
        "data_trans['cluster'] = kmeans.labels_"
      ],
      "metadata": {
        "id": "FxmJE8mUWrLV"
      },
      "execution_count": 98,
      "outputs": []
    },
    {
      "cell_type": "code",
      "source": [
        "fig = plt.figure(figsize = (10,6))\n",
        "ax = fig.add_subplot(111, projection = '3d')\n",
        "ax.scatter(data['plant_socre'],data['passenger_score'],data['transport_score'],c = data_trans['cluster'],cmap = 'rainbow')\n",
        "ax.set_xlabel('plant')\n",
        "ax.set_xlabel('passenger')\n",
        "ax.set_xlabel('transport')\n",
        "plt.show()"
      ],
      "metadata": {
        "colab": {
          "base_uri": "https://localhost:8080/",
          "height": 357
        },
        "id": "SST9c87yW51M",
        "outputId": "03794614-a3b6-400c-8b9b-1061b866b4a0"
      },
      "execution_count": 99,
      "outputs": [
        {
          "output_type": "display_data",
          "data": {
            "text/plain": [
              "<Figure size 720x432 with 1 Axes>"
            ],
            "image/png": "[encoded data removed]"
          },
          "metadata": {
            "needs_background": "light"
          }
        }
      ]
    },
    {
      "cell_type": "code",
      "source": [
        "SSE = []\n",
        "for k in range(2,10):\n",
        "  kmeans = KMeans(n_clusters = k)\n",
        "  kmeans.fit(data_trans)\n",
        "  SSE.append(kmeans.inertia_)\n",
        "  \n",
        "f,ax = plt.subplots(1,1,figsize = (10,6))\n",
        "ax.plot(range(2,10),SSE)\n",
        "ax.set_xticks(range(2,10))\n",
        "ax.set_ylabel('SSE')\n",
        "plt.title('SSE for different number of clusters')\n",
        "plt.show()"
      ],
      "metadata": {
        "colab": {
          "base_uri": "https://localhost:8080/",
          "height": 390
        },
        "id": "gkzoQLAbYlij",
        "outputId": "22993604-9fc0-4b8c-b665-68ee4748d9df"
      },
      "execution_count": 100,
      "outputs": [
        {
          "output_type": "display_data",
          "data": {
            "text/plain": [
              "<Figure size 720x432 with 1 Axes>"
            ],
            "image/png": "[encoded data removed]"
          },
          "metadata": {
            "needs_background": "light"
          }
        }
      ]
    },
    {
      "cell_type": "markdown",
      "source": [
        "팔꿈치 이론을 이용한 최적의 군집갯구 구하는 방법입니다."
      ],
      "metadata": {
        "id": "AObXmHyua3wj"
      }
    },
    {
      "cell_type": "code",
      "source": [
        "import numpy as np"
      ],
      "metadata": {
        "id": "MtoV5bU-dzC0"
      },
      "execution_count": 101,
      "outputs": []
    },
    {
      "cell_type": "code",
      "source": [
        "q = np.arange(0,1.1,0.1)"
      ],
      "metadata": {
        "id": "VJsWAvPXd1Yr"
      },
      "execution_count": 102,
      "outputs": []
    },
    {
      "cell_type": "code",
      "source": [
        "q"
      ],
      "metadata": {
        "colab": {
          "base_uri": "https://localhost:8080/"
        },
        "id": "PczByS7yd5X7",
        "outputId": "74e49b04-9c2d-4b15-88da-490f088eeff8"
      },
      "execution_count": 103,
      "outputs": [
        {
          "output_type": "execute_result",
          "data": {
            "text/plain": [
              "array([0. , 0.1, 0.2, 0.3, 0.4, 0.5, 0.6, 0.7, 0.8, 0.9, 1. ])"
            ]
          },
          "metadata": {},
          "execution_count": 103
        }
      ]
    },
    {
      "cell_type": "code",
      "source": [
        "quan_p = []\n",
        "quan_p.append(data1['passenger_score'].quantile(q = q))"
      ],
      "metadata": {
        "id": "nm-jT2K2cqjr"
      },
      "execution_count": 104,
      "outputs": []
    },
    {
      "cell_type": "code",
      "source": [
        "quan_p[0][0]"
      ],
      "metadata": {
        "colab": {
          "base_uri": "https://localhost:8080/"
        },
        "id": "A04Zcf3pduPa",
        "outputId": "4102db7a-2b2c-4d6e-bb8e-0bdf7f70c905"
      },
      "execution_count": 105,
      "outputs": [
        {
          "output_type": "execute_result",
          "data": {
            "text/plain": [
              "106.8298611"
            ]
          },
          "metadata": {},
          "execution_count": 105
        }
      ]
    },
    {
      "cell_type": "markdown",
      "source": [
        "백분위수를 이용해서 저걸 기준으로 이용객이 106명 미만이면 10점 이런식으로 해서 점수를 매긴다음에\n",
        "만약에 이용객 적은 거에 더 가중치를 주고 싶다 하면 거기다가 위에 구한 엔트로피를 곱해서 시각화해서 보여주면 좋을 것 같습니다."
      ],
      "metadata": {
        "id": "mwlbMUnoeLRU"
      }
    },
    {
      "cell_type": "code",
      "source": [
        "data1['p_score'] = 0"
      ],
      "metadata": {
        "colab": {
          "base_uri": "https://localhost:8080/"
        },
        "id": "Xipg18arfRf7",
        "outputId": "ef1d274b-3625-469a-e713-0c2f0015c837"
      },
      "execution_count": 106,
      "outputs": [
        {
          "output_type": "stream",
          "name": "stderr",
          "text": [
            "/usr/local/lib/python3.7/dist-packages/ipykernel_launcher.py:1: SettingWithCopyWarning: \n",
            "A value is trying to be set on a copy of a slice from a DataFrame.\n",
            "Try using .loc[row_indexer,col_indexer] = value instead\n",
            "\n",
            "See the caveats in the documentation: https://pandas.pydata.org/pandas-docs/stable/user_guide/indexing.html#returning-a-view-versus-a-copy\n",
            "  \"\"\"Entry point for launching an IPython kernel.\n"
          ]
        }
      ]
    },
    {
      "cell_type": "code",
      "source": [
        "for m in range(len(data1)):\n",
        "   if data1['passenger_score'].iloc[m]<=quan_p[0][0]:\n",
        "     data1['p_score'].iloc[m] = 10\n",
        "   elif data1['passenger_score'].iloc[m]>quan_p[0][0] or data1['passenger_score'].iloc[m]<=quan_p[1][0]:\n",
        "     data1['p_score'].iloc[m] = 9"
      ],
      "metadata": {
        "colab": {
          "base_uri": "https://localhost:8080/"
        },
        "id": "reCRU0smecCz",
        "outputId": "51989af3-eb09-42a0-e5c8-7b8acd2f5141"
      },
      "execution_count": 107,
      "outputs": [
        {
          "output_type": "stream",
          "name": "stderr",
          "text": [
            "/usr/local/lib/python3.7/dist-packages/pandas/core/indexing.py:1732: SettingWithCopyWarning: \n",
            "A value is trying to be set on a copy of a slice from a DataFrame\n",
            "\n",
            "See the caveats in the documentation: https://pandas.pydata.org/pandas-docs/stable/user_guide/indexing.html#returning-a-view-versus-a-copy\n",
            "  self._setitem_single_block(indexer, value, name)\n"
          ]
        }
      ]
    }
  ]
}